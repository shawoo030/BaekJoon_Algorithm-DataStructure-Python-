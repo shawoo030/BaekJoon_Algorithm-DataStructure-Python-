{
 "cells": [
  {
   "cell_type": "code",
   "execution_count": null,
   "id": "eccdeca5",
   "metadata": {
    "scrolled": true
   },
   "outputs": [],
   "source": [
    "\n",
    "from sys import stdin\n",
    "\n",
    "act_n = int(stdin.readline())\n",
    "get = [stdin.readline().strip() for i in range(act_n)]\n",
    "stack = []\n",
    "n = 0\n",
    "answer = \"\"\n",
    "\n",
    "for i in range(act_n):\n",
    "    act = get[i]\n",
    "    if len(act.split())>1:\n",
    "        n = int(act.split()[-1])\n",
    "        # print(n)\n",
    "        stack.append(n)\n",
    "        # print(stack)\n",
    "        act_n -= 1\n",
    "    else:\n",
    "        # pop\n",
    "        if act == 'pop':\n",
    "            if len(stack) == 0:\n",
    "                answer += str(-1) + '\\n' #print(-1)\n",
    "            else:\n",
    "                answer += str(stack.pop()) + '\\n' # print(stack.pop())\n",
    "        # top\n",
    "        if act == 'top':\n",
    "            if len(stack) == 0:\n",
    "                answer += str(-1) + '\\n' # print(-1)\n",
    "            else:\n",
    "                answer += str(stack[-1]) + '\\n' #print(stack[-1])\n",
    "        \n",
    "        if act == 'size':\n",
    "            answer += str(len(stack)) + '\\n' # print(len(stack))\n",
    "        if act == 'empty':\n",
    "            if stack :\n",
    "                answer += str(0) + '\\n' #print(0)\n",
    "            else:  answer += str(1) + '\\n' #print(1)\n",
    "        act_n -= 1\n",
    "\n",
    "print(answer)"
   ]
  },
  {
   "cell_type": "markdown",
   "id": "cbbeb91c",
   "metadata": {},
   "source": [
    "***느낀 점: '시간초과'문제를 해결하기 위해서는?***\n",
    "- input()보다는 stdin.readline()을 사용해야 한다.   \n",
    "- 또한, 여러 입력줄을 받을 때는 strip()함수를 이용해서 list에 저장한 후에 for문으로 받아오면 된다.\n",
    "- 출력을 할 때도 print()보다는 answer이라는 string 하나에다 계속해서 += 로 더한 뒤, 마지막에 answer로 출력하는 것이 더 빠르다.\n",
    "\n",
    "\n"
   ]
  },
  {
   "cell_type": "code",
   "execution_count": null,
   "id": "bd7cd352",
   "metadata": {},
   "outputs": [],
   "source": []
  }
 ],
 "metadata": {
  "kernelspec": {
   "display_name": "Python 3 (ipykernel)",
   "language": "python",
   "name": "python3"
  },
  "language_info": {
   "codemirror_mode": {
    "name": "ipython",
    "version": 3
   },
   "file_extension": ".py",
   "mimetype": "text/x-python",
   "name": "python",
   "nbconvert_exporter": "python",
   "pygments_lexer": "ipython3",
   "version": "3.8.5"
  }
 },
 "nbformat": 4,
 "nbformat_minor": 5
}
